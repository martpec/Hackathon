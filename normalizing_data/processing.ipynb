{
 "cells": [
  {
   "cell_type": "code",
   "id": "3e94b0e11d451d3d",
   "metadata": {
    "ExecuteTime": {
     "end_time": "2025-10-25T12:49:03.706419Z",
     "start_time": "2025-10-25T12:49:03.578961Z"
    }
   },
   "source": "from openpyxl import load_workbook, Workbook",
   "outputs": [],
   "execution_count": 8
  },
  {
   "metadata": {
    "ExecuteTime": {
     "end_time": "2025-10-25T12:49:03.726830Z",
     "start_time": "2025-10-25T12:49:03.721543Z"
    }
   },
   "cell_type": "code",
   "source": [
    "\n",
    "# === CONFIGURATION ===\n",
    "input_file = \"data/sorted_with_filters_505.xlsx\"     # your original file\n",
    "output_file = \"sorted_without_filters_505.xlsx\"  # output file name\n",
    "sheet_name = None  # or specify, e.g. \"Sheet1\""
   ],
   "id": "1d7330c180370508",
   "outputs": [],
   "execution_count": 9
  },
  {
   "metadata": {
    "ExecuteTime": {
     "end_time": "2025-10-25T12:49:04.244387Z",
     "start_time": "2025-10-25T12:49:03.733341Z"
    }
   },
   "cell_type": "code",
   "source": [
    "\n",
    "# === LOAD WORKBOOK ===\n",
    "wb = load_workbook(input_file)\n",
    "ws = wb[sheet_name or wb.sheetnames[0]]  # use given sheet or first sheet"
   ],
   "id": "398aded917d7a460",
   "outputs": [],
   "execution_count": 10
  },
  {
   "metadata": {
    "ExecuteTime": {
     "end_time": "2025-10-25T12:49:04.254748Z",
     "start_time": "2025-10-25T12:49:04.249310Z"
    }
   },
   "cell_type": "code",
   "source": [
    "\n",
    "# === CREATE NEW WORKBOOK FOR OUTPUT ===\n",
    "new_wb = Workbook()\n",
    "new_ws = new_wb.active\n",
    "new_ws.title = ws.title"
   ],
   "id": "e52118c3fab539b1",
   "outputs": [],
   "execution_count": 11
  },
  {
   "metadata": {
    "ExecuteTime": {
     "end_time": "2025-10-25T12:49:04.262615Z",
     "start_time": "2025-10-25T12:49:04.260273Z"
    }
   },
   "cell_type": "code",
   "source": "",
   "id": "1e4ee0d8a036eb5d",
   "outputs": [],
   "execution_count": null
  },
  {
   "metadata": {
    "ExecuteTime": {
     "end_time": "2025-10-25T12:49:04.573895Z",
     "start_time": "2025-10-25T12:49:04.267957Z"
    }
   },
   "cell_type": "code",
   "source": [
    "# === LOOP THROUGH ROWS AND COPY VISIBLE ONES ===\n",
    "for i, row in enumerate(ws.iter_rows(values_only=False), start=1):\n",
    "    # Skip hidden rows\n",
    "    if ws.row_dimensions[i].hidden:\n",
    "        continue\n",
    "\n",
    "    # Extract cell values\n",
    "    values = [cell.value for cell in row]\n",
    "    new_ws.append(values)"
   ],
   "id": "af8382f21e557dee",
   "outputs": [],
   "execution_count": 12
  },
  {
   "metadata": {
    "ExecuteTime": {
     "end_time": "2025-10-25T12:49:04.706516Z",
     "start_time": "2025-10-25T12:49:04.585265Z"
    }
   },
   "cell_type": "code",
   "source": [
    "\n",
    "# === SAVE OUTPUT ===\n",
    "new_wb.save(output_file)\n",
    "print(f\"✅ Filtered rows saved to '{output_file}'\")\n"
   ],
   "id": "initial_id",
   "outputs": [
    {
     "name": "stdout",
     "output_type": "stream",
     "text": [
      "✅ Filtered rows saved to 'sorted_without_filters_505.xlsx'\n"
     ]
    }
   ],
   "execution_count": 13
  }
 ],
 "metadata": {
  "kernelspec": {
   "display_name": "Python 3",
   "language": "python",
   "name": "python3"
  },
  "language_info": {
   "codemirror_mode": {
    "name": "ipython",
    "version": 2
   },
   "file_extension": ".py",
   "mimetype": "text/x-python",
   "name": "python",
   "nbconvert_exporter": "python",
   "pygments_lexer": "ipython2",
   "version": "2.7.6"
  }
 },
 "nbformat": 4,
 "nbformat_minor": 5
}
