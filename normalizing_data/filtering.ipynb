{
 "cells": [
  {
   "cell_type": "code",
   "id": "initial_id",
   "metadata": {
    "collapsed": true,
    "ExecuteTime": {
     "end_time": "2025-10-25T13:24:11.308402Z",
     "start_time": "2025-10-25T13:24:11.302719Z"
    }
   },
   "source": "import pandas as pd",
   "outputs": [],
   "execution_count": 23
  },
  {
   "metadata": {
    "ExecuteTime": {
     "end_time": "2025-10-25T13:24:11.797777Z",
     "start_time": "2025-10-25T13:24:11.326744Z"
    }
   },
   "cell_type": "code",
   "source": [
    "\n",
    "df = pd.read_excel('sorted_without_filters_505.xlsx')"
   ],
   "id": "4746d1cb779761d9",
   "outputs": [],
   "execution_count": 24
  },
  {
   "metadata": {
    "ExecuteTime": {
     "end_time": "2025-10-25T13:24:11.813918Z",
     "start_time": "2025-10-25T13:24:11.806985Z"
    }
   },
   "cell_type": "code",
   "source": [
    "columns = df.columns.tolist()\n",
    "print(columns)"
   ],
   "id": "d077daf520118f07",
   "outputs": [
    {
     "name": "stdout",
     "output_type": "stream",
     "text": [
      "['<ID>', 'Product name', 'Actuator size', 'Actuator size [in]', 'Actuator system [mm]', 'Coil', 'Coil connection', 'Connection size [in]', 'Connection size [mm]', 'Connection type', 'Cv value [gal/min]', 'Cv value invert flow [gal/min]', 'Direction', 'Electrical connection', 'Enclosure rating IP', 'Enclosure rating Nema (~)', 'Frequency [Hz]', 'Function', 'Inlet connection type', 'Inlet size [in]', 'Inlet size [mm]', 'Kv value [m³/h]', 'Kv value invert flow [m³/h]', 'Manual operation option', 'Max. Working Pressure [bar]', 'Max. Working Pressure [psig]', 'Media recommendations', 'Orifice size [mm]', 'Orifice size fraction [in]', 'Outlet connection type', 'Outlet size [in]', 'Outlet size [mm]', 'Packing format', 'Parts Program name', 'Power consumption [W]', 'Power consumption [W] 50Hz', 'Power consumption [W] 60Hz', 'Power consumption [W] DC', 'Refrigerants', 'Supply voltage [V] AC', 'Supply voltage [V] AC [max]', 'Supply voltage [V] AC [min]', 'Supply voltage [V] DC', 'Customer Specific']\n"
     ]
    }
   ],
   "execution_count": 25
  },
  {
   "metadata": {
    "ExecuteTime": {
     "end_time": "2025-10-25T13:24:11.835970Z",
     "start_time": "2025-10-25T13:24:11.824372Z"
    }
   },
   "cell_type": "code",
   "source": [
    "compare = [ 'Inlet connection type', 'Outlet connection type']\n",
    "def fill_blanks(compare_arr):\n",
    "    df[compare_arr] = df[compare_arr].fillna('BLANK').replace('', 'BLANK').replace(' ', 'BLANK')\n"
   ],
   "id": "37c9cee31a05ba14",
   "outputs": [],
   "execution_count": 26
  },
  {
   "metadata": {
    "ExecuteTime": {
     "end_time": "2025-10-25T13:24:11.859980Z",
     "start_time": "2025-10-25T13:24:11.844533Z"
    }
   },
   "cell_type": "code",
   "source": [
    "\n",
    "def find_mismatches(dff, compare_arr):\n",
    "    col1 = compare_arr[0]\n",
    "    col2 = compare_arr[1]\n",
    "    dff[\"Match\"] = dff[col1] == dff[col2]\n",
    "    in_mismatches = dff[dff[\"Match\"] == False]\n",
    "    return in_mismatches\n",
    "\n",
    "mismatches = find_mismatches(compare)\n",
    "len(mismatches)\n",
    "print(mismatches[['<ID>', 'Inlet connection type', 'Outlet connection type',  'Outlet size [mm]']].head(20))"
   ],
   "id": "50c4bc8fb732433b",
   "outputs": [
    {
     "name": "stdout",
     "output_type": "stream",
     "text": [
      "         <ID> Inlet connection type Outlet connection type Inlet size [in]  \\\n",
      "259  032F1360           Solder, ODF            Solder, ODM          5/8 in   \n",
      "285  032L8285           Solder, ODF            Solder, ODM          1/2 in   \n",
      "288  032F1158           Solder, ODF            Solder, ODM          3/8 in   \n",
      "323  032L3084           Solder, ODF            Solder, ODM        1 1/8 in   \n",
      "433  032F1233           Solder, ODF            Solder, ODM          1/2 in   \n",
      "\n",
      "    Inlet size [mm] Outlet size [in] Outlet size [mm]  \n",
      "259             NaN           5/8 in              NaN  \n",
      "285             NaN           1/2 in              NaN  \n",
      "288             NaN           3/8 in              NaN  \n",
      "323             NaN         1 1/8 in              NaN  \n",
      "433             NaN           3/8 in              NaN  \n"
     ]
    }
   ],
   "execution_count": 27
  },
  {
   "metadata": {
    "ExecuteTime": {
     "end_time": "2025-10-25T13:24:11.884804Z",
     "start_time": "2025-10-25T13:24:11.877916Z"
    }
   },
   "cell_type": "code",
   "source": [
    "#removing the not identicals\n",
    "df = df.drop(mismatches.index)\n",
    "\n",
    "compare = [ 'Inlet size [in]', 'Outlet size [in]']\n",
    "\n"
   ],
   "id": "a21f562cb172428a",
   "outputs": [],
   "execution_count": 28
  }
 ],
 "metadata": {
  "kernelspec": {
   "display_name": "Python 3",
   "language": "python",
   "name": "python3"
  },
  "language_info": {
   "codemirror_mode": {
    "name": "ipython",
    "version": 2
   },
   "file_extension": ".py",
   "mimetype": "text/x-python",
   "name": "python",
   "nbconvert_exporter": "python",
   "pygments_lexer": "ipython2",
   "version": "2.7.6"
  }
 },
 "nbformat": 4,
 "nbformat_minor": 5
}
