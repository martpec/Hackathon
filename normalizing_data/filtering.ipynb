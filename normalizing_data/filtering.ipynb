{
 "cells": [
  {
   "cell_type": "code",
   "id": "initial_id",
   "metadata": {
    "collapsed": true,
    "ExecuteTime": {
     "end_time": "2025-10-25T13:58:59.797561Z",
     "start_time": "2025-10-25T13:58:59.792124Z"
    }
   },
   "source": "import pandas as pd",
   "outputs": [],
   "execution_count": 82
  },
  {
   "metadata": {
    "ExecuteTime": {
     "end_time": "2025-10-25T13:59:00.474650Z",
     "start_time": "2025-10-25T13:58:59.804393Z"
    }
   },
   "cell_type": "code",
   "source": [
    "\n",
    "df = pd.read_excel('sorted_without_filters_505.xlsx')"
   ],
   "id": "4746d1cb779761d9",
   "outputs": [],
   "execution_count": 83
  },
  {
   "metadata": {
    "ExecuteTime": {
     "end_time": "2025-10-25T13:59:00.488955Z",
     "start_time": "2025-10-25T13:59:00.482822Z"
    }
   },
   "cell_type": "code",
   "source": [
    "columns = df.columns.tolist()\n",
    "print(columns)"
   ],
   "id": "d077daf520118f07",
   "outputs": [
    {
     "name": "stdout",
     "output_type": "stream",
     "text": [
      "['<ID>', 'Product name', 'Actuator size', 'Actuator size [in]', 'Actuator system [mm]', 'Coil', 'Coil connection', 'Connection size [in]', 'Connection size [mm]', 'Connection type', 'Cv value [gal/min]', 'Cv value invert flow [gal/min]', 'Direction', 'Electrical connection', 'Enclosure rating IP', 'Enclosure rating Nema (~)', 'Frequency [Hz]', 'Function', 'Inlet connection type', 'Inlet size [in]', 'Inlet size [mm]', 'Kv value [m³/h]', 'Kv value invert flow [m³/h]', 'Manual operation option', 'Max. Working Pressure [bar]', 'Max. Working Pressure [psig]', 'Media recommendations', 'Orifice size [mm]', 'Orifice size fraction [in]', 'Outlet connection type', 'Outlet size [in]', 'Outlet size [mm]', 'Packing format', 'Parts Program name', 'Power consumption [W]', 'Power consumption [W] 50Hz', 'Power consumption [W] 60Hz', 'Power consumption [W] DC', 'Refrigerants', 'Supply voltage [V] AC', 'Supply voltage [V] AC [max]', 'Supply voltage [V] AC [min]', 'Supply voltage [V] DC', 'Customer Specific']\n"
     ]
    }
   ],
   "execution_count": 84
  },
  {
   "metadata": {
    "ExecuteTime": {
     "end_time": "2025-10-25T13:59:00.502243Z",
     "start_time": "2025-10-25T13:59:00.496327Z"
    }
   },
   "cell_type": "code",
   "source": [
    "compare = [ 'Inlet connection type', 'Outlet connection type']\n",
    "def fill_blanks(df_input, compare_arr):\n",
    "    dff = df.copy()\n",
    "    dff[compare_arr] = df_input[compare_arr].fillna('BLANK').replace('', 'BLANK').replace(' ', 'BLANK')\n",
    "    return dff\n"
   ],
   "id": "37c9cee31a05ba14",
   "outputs": [],
   "execution_count": 85
  },
  {
   "metadata": {
    "ExecuteTime": {
     "end_time": "2025-10-25T13:59:00.515879Z",
     "start_time": "2025-10-25T13:59:00.510247Z"
    }
   },
   "cell_type": "code",
   "source": [
    "def merge_columns(dff, old_cols, new_col):\n",
    "    old_col1 = old_cols[0]\n",
    "    old_col2 = old_cols[1]\n",
    "    dff[new_col] = dff[old_col1]\n",
    "    dff = dff.drop([old_col1, old_col2], axis=1)\n",
    "    return dff"
   ],
   "id": "cc65fad6bed8d9b",
   "outputs": [],
   "execution_count": 86
  },
  {
   "metadata": {
    "ExecuteTime": {
     "end_time": "2025-10-25T13:59:00.537583Z",
     "start_time": "2025-10-25T13:59:00.524007Z"
    }
   },
   "cell_type": "code",
   "source": [
    "\n",
    "def find_mismatches(dff, compare_arr):\n",
    "    col1 = compare_arr[0]\n",
    "    col2 = compare_arr[1]\n",
    "    dff[\"Match\"] = dff[col1] == dff[col2]\n",
    "    in_mismatches = dff[dff[\"Match\"] == False]\n",
    "    return in_mismatches\n",
    "\n",
    "df = fill_blanks(df, compare)\n",
    "mismatches = find_mismatches(df, compare)\n",
    "len(mismatches)\n",
    "print(mismatches[['<ID>', 'Inlet connection type', 'Outlet connection type',  'Outlet size [mm]']].head(20))"
   ],
   "id": "50c4bc8fb732433b",
   "outputs": [
    {
     "name": "stdout",
     "output_type": "stream",
     "text": [
      "         <ID> Inlet connection type Outlet connection type Outlet size [mm]\n",
      "259  032F1360           Solder, ODF            Solder, ODM              NaN\n",
      "285  032L8285           Solder, ODF            Solder, ODM              NaN\n",
      "288  032F1158           Solder, ODF            Solder, ODM              NaN\n",
      "323  032L3084           Solder, ODF            Solder, ODM              NaN\n",
      "433  032F1233           Solder, ODF            Solder, ODM              NaN\n"
     ]
    }
   ],
   "execution_count": 87
  },
  {
   "metadata": {
    "ExecuteTime": {
     "end_time": "2025-10-25T13:59:00.549177Z",
     "start_time": "2025-10-25T13:59:00.542937Z"
    }
   },
   "cell_type": "code",
   "source": [
    "#removing the not identicals\n",
    "df = df.drop(mismatches.index)"
   ],
   "id": "c5bdc2261256b322",
   "outputs": [],
   "execution_count": 88
  },
  {
   "metadata": {
    "ExecuteTime": {
     "end_time": "2025-10-25T13:59:00.561139Z",
     "start_time": "2025-10-25T13:59:00.555144Z"
    }
   },
   "cell_type": "code",
   "source": "df = merge_columns(df, compare, 'Connection type')",
   "id": "cb4fa912b9f38464",
   "outputs": [],
   "execution_count": 89
  },
  {
   "metadata": {
    "ExecuteTime": {
     "end_time": "2025-10-25T13:59:00.578557Z",
     "start_time": "2025-10-25T13:59:00.568521Z"
    }
   },
   "cell_type": "code",
   "source": [
    "\n",
    "compare = [ 'Inlet size [in]', 'Outlet size [in]']\n",
    "df = fill_blanks(df, compare)\n",
    "mismatches = find_mismatches(df, compare)\n",
    "len(mismatches)\n",
    "df = merge_columns(df, compare, 'Connection size [in]')"
   ],
   "id": "bb30a5ca6fd508cd",
   "outputs": [],
   "execution_count": 90
  },
  {
   "metadata": {
    "ExecuteTime": {
     "end_time": "2025-10-25T13:59:00.598082Z",
     "start_time": "2025-10-25T13:59:00.584934Z"
    }
   },
   "cell_type": "code",
   "source": [
    "compare = [ 'Inlet size [mm]', 'Outlet size [mm]']\n",
    "df = fill_blanks(df, compare)\n",
    "mismatches = find_mismatches(df, compare)\n",
    "len(mismatches)"
   ],
   "id": "8d78f92015c592b8",
   "outputs": [
    {
     "data": {
      "text/plain": [
       "0"
      ]
     },
     "execution_count": 91,
     "metadata": {},
     "output_type": "execute_result"
    }
   ],
   "execution_count": 91
  },
  {
   "metadata": {
    "ExecuteTime": {
     "end_time": "2025-10-25T13:59:00.628609Z",
     "start_time": "2025-10-25T13:59:00.621066Z"
    }
   },
   "cell_type": "code",
   "source": "df = merge_columns(df, compare, 'Connection size [mm]')",
   "id": "a7756b5aa7d120e",
   "outputs": [],
   "execution_count": 92
  },
  {
   "metadata": {
    "ExecuteTime": {
     "end_time": "2025-10-25T13:59:01.204616Z",
     "start_time": "2025-10-25T13:59:00.637912Z"
    }
   },
   "cell_type": "code",
   "source": "df.to_excel(\"filtered_data_505.xlsx\", index=False)",
   "id": "a21f562cb172428a",
   "outputs": [],
   "execution_count": 93
  }
 ],
 "metadata": {
  "kernelspec": {
   "display_name": "Python 3",
   "language": "python",
   "name": "python3"
  },
  "language_info": {
   "codemirror_mode": {
    "name": "ipython",
    "version": 2
   },
   "file_extension": ".py",
   "mimetype": "text/x-python",
   "name": "python",
   "nbconvert_exporter": "python",
   "pygments_lexer": "ipython2",
   "version": "2.7.6"
  }
 },
 "nbformat": 4,
 "nbformat_minor": 5
}
