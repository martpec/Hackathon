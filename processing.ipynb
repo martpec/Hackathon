{
 "cells": [
  {
   "cell_type": "code",
   "id": "3e94b0e11d451d3d",
   "metadata": {
    "ExecuteTime": {
     "end_time": "2025-10-24T23:38:22.435088Z",
     "start_time": "2025-10-24T23:38:22.430911Z"
    }
   },
   "source": "from openpyxl import load_workbook, Workbook",
   "outputs": [],
   "execution_count": 9
  },
  {
   "metadata": {
    "ExecuteTime": {
     "end_time": "2025-10-24T23:38:24.462936Z",
     "start_time": "2025-10-24T23:38:24.457454Z"
    }
   },
   "cell_type": "code",
   "source": [
    "\n",
    "# === CONFIGURATION ===\n",
    "input_file = \"data/Solenoid valves_coils extract_06102025 - Copy.xlsx\"     # your original file\n",
    "output_file = \"filtered_only_colored.xlsx\"  # output file name\n",
    "sheet_name = None  # or specify, e.g. \"Sheet1\""
   ],
   "id": "1d7330c180370508",
   "outputs": [],
   "execution_count": 10
  },
  {
   "metadata": {
    "ExecuteTime": {
     "end_time": "2025-10-24T23:38:28.505097Z",
     "start_time": "2025-10-24T23:38:27.802235Z"
    }
   },
   "cell_type": "code",
   "source": [
    "\n",
    "# === LOAD WORKBOOK ===\n",
    "wb = load_workbook(input_file)\n",
    "ws = wb[sheet_name or wb.sheetnames[0]]  # use given sheet or first sheet"
   ],
   "id": "398aded917d7a460",
   "outputs": [],
   "execution_count": 11
  },
  {
   "metadata": {
    "ExecuteTime": {
     "end_time": "2025-10-24T23:38:30.523377Z",
     "start_time": "2025-10-24T23:38:30.517974Z"
    }
   },
   "cell_type": "code",
   "source": [
    "\n",
    "# === CREATE NEW WORKBOOK FOR OUTPUT ===\n",
    "new_wb = Workbook()\n",
    "new_ws = new_wb.active\n",
    "new_ws.title = ws.title"
   ],
   "id": "e52118c3fab539b1",
   "outputs": [],
   "execution_count": 12
  },
  {
   "metadata": {
    "ExecuteTime": {
     "end_time": "2025-10-24T23:38:33.594197Z",
     "start_time": "2025-10-24T23:38:33.588256Z"
    }
   },
   "cell_type": "code",
   "source": [
    "for col_letter, col_dim in ws.column_dimensions.items():\n",
    "    new_ws.column_dimensions[col_letter].width = col_dim.width\n"
   ],
   "id": "1e4ee0d8a036eb5d",
   "outputs": [],
   "execution_count": 13
  },
  {
   "metadata": {
    "ExecuteTime": {
     "end_time": "2025-10-24T23:38:38.259355Z",
     "start_time": "2025-10-24T23:38:37.700494Z"
    }
   },
   "cell_type": "code",
   "source": [
    "# === LOOP THROUGH ROWS AND COPY VISIBLE ONES ===\n",
    "for i, row in enumerate(ws.iter_rows(), start=1):\n",
    "    # Skip hidden (filtered out) rows\n",
    "    if ws.row_dimensions[i].hidden:\n",
    "        continue\n",
    "\n",
    "    new_row = new_ws.max_row + 1  # append row index\n",
    "\n",
    "    for j, cell in enumerate(row, start=1):\n",
    "        new_cell = new_ws.cell(row=new_row, column=j, value=cell.value)\n",
    "\n",
    "        # Copy cell style\n",
    "        if cell.has_style:\n",
    "            new_cell.font = cell.font.copy()\n",
    "            new_cell.border = cell.border.copy()\n",
    "            new_cell.fill = cell.fill.copy()\n",
    "            new_cell.number_format = cell.number_format\n",
    "            new_cell.protection = cell.protection.copy()\n",
    "            new_cell.alignment = cell.alignment.copy()"
   ],
   "id": "af8382f21e557dee",
   "outputs": [],
   "execution_count": 14
  },
  {
   "metadata": {
    "ExecuteTime": {
     "end_time": "2025-10-24T23:38:41.504789Z",
     "start_time": "2025-10-24T23:38:41.387206Z"
    }
   },
   "cell_type": "code",
   "source": [
    "\n",
    "# === SAVE OUTPUT ===\n",
    "new_wb.save(output_file)\n",
    "print(f\"✅ Filtered rows saved to '{output_file}'\")\n"
   ],
   "id": "initial_id",
   "outputs": [
    {
     "name": "stdout",
     "output_type": "stream",
     "text": [
      "✅ Filtered rows saved to 'filtered_only_colored.xlsx'\n"
     ]
    }
   ],
   "execution_count": 15
  }
 ],
 "metadata": {
  "kernelspec": {
   "display_name": "Python 3",
   "language": "python",
   "name": "python3"
  },
  "language_info": {
   "codemirror_mode": {
    "name": "ipython",
    "version": 2
   },
   "file_extension": ".py",
   "mimetype": "text/x-python",
   "name": "python",
   "nbconvert_exporter": "python",
   "pygments_lexer": "ipython2",
   "version": "2.7.6"
  }
 },
 "nbformat": 4,
 "nbformat_minor": 5
}
