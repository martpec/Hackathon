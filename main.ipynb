{
 "cells": [
  {
   "cell_type": "code",
   "id": "initial_id",
   "metadata": {
    "collapsed": true,
    "ExecuteTime": {
     "end_time": "2025-10-24T18:27:02.791296Z",
     "start_time": "2025-10-24T18:27:02.784327Z"
    }
   },
   "source": "import re",
   "outputs": [],
   "execution_count": 1
  },
  {
   "metadata": {},
   "cell_type": "code",
   "outputs": [],
   "execution_count": null,
   "source": [
    "\n",
    "def preprocess_valve_spec(text):\n",
    "    text = text.lower()\n",
    "    text = text.strip()\n",
    "\n",
    "    # Unit conversion example\n",
    "    text = re.sub(r\"\\b2(\\s*inch|in)\\b\", \"dn50\", text)\n",
    "\n",
    "    # Remove multiple spaces\n",
    "    text = re.sub(r\"\\s+\", \" \", text)\n",
    "\n",
    "    return text.title()  # Capitalize words for consistency"
   ],
   "id": "d4da1917b2dd0ef2"
  },
  {
   "metadata": {},
   "cell_type": "code",
   "outputs": [],
   "execution_count": null,
   "source": [
    "valve_1_raw = \"SS Ball valve DN 50 PN-16 Flanged\"\n",
    "valve_2_raw = \"2 inch stainless steel ball valve PN16 flange\"\n",
    "\n",
    "valve_1_clean = preprocess_valve_spec(valve_1_raw)\n",
    "valve_2_clean = preprocess_valve_spec(valve_2_raw)\n",
    "\n",
    "print(\"Raw 1:\", valve_1_raw)\n",
    "print(\"Raw 2:\", valve_2_raw)\n",
    "print(\"Clean 1:\", valve_1_clean)\n",
    "print(\"Clean 2:\", valve_2_clean)\n"
   ],
   "id": "c0fcf320050b7547"
  },
  {
   "metadata": {},
   "cell_type": "code",
   "outputs": [],
   "execution_count": null,
   "source": "from sentence_transformers import SentenceTransformer, util",
   "id": "9bfd4c5c0434f4e9"
  },
  {
   "metadata": {},
   "cell_type": "code",
   "execution_count": null,
   "source": [
    "# Load a general embedding model (small but good)\n",
    "model = SentenceTransformer('all-MiniLM-L6-v2')"
   ],
   "id": "9db5c7327395c084",
   "outputs": []
  },
  {
   "metadata": {},
   "cell_type": "code",
   "execution_count": null,
   "source": [
    "\n",
    "# Encode raw and clean specs\n",
    "emb_raw = model.encode([valve_1_raw, valve_2_raw], convert_to_tensor=True)\n",
    "emb_clean = model.encode([valve_1_clean, valve_2_clean], convert_to_tensor=True)"
   ],
   "id": "6a10a1b5d32fdd0e",
   "outputs": []
  },
  {
   "metadata": {},
   "cell_type": "code",
   "execution_count": null,
   "source": [
    "\n",
    "# Cosine similarity\n",
    "sim_raw = util.cos_sim(emb_raw[0], emb_raw[1]).item()\n",
    "sim_clean = util.cos_sim(emb_clean[0], emb_clean[1]).item()"
   ],
   "id": "e03496615250c814",
   "outputs": []
  },
  {
   "metadata": {},
   "cell_type": "code",
   "outputs": [],
   "execution_count": null,
   "source": [
    "\n",
    "print(f\"Similarity (raw):   {sim_raw:.4f}\")\n",
    "print(f\"Similarity (clean): {sim_clean:.4f}\")"
   ],
   "id": "e94448d768526b02"
  }
 ],
 "metadata": {
  "kernelspec": {
   "display_name": "Python 3",
   "language": "python",
   "name": "python3"
  },
  "language_info": {
   "codemirror_mode": {
    "name": "ipython",
    "version": 2
   },
   "file_extension": ".py",
   "mimetype": "text/x-python",
   "name": "python",
   "nbconvert_exporter": "python",
   "pygments_lexer": "ipython2",
   "version": "2.7.6"
  }
 },
 "nbformat": 4,
 "nbformat_minor": 5
}
