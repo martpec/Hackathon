{
 "cells": [
  {
   "cell_type": "code",
   "id": "aaf80d6123af024e",
   "metadata": {
    "ExecuteTime": {
     "end_time": "2025-10-25T17:57:55.468633Z",
     "start_time": "2025-10-25T17:57:55.464623Z"
    }
   },
   "source": [
    "import pandas as pd\n",
    "import dedupe\n",
    "import os\n",
    "import json"
   ],
   "outputs": [],
   "execution_count": 79
  },
  {
   "metadata": {
    "ExecuteTime": {
     "end_time": "2025-10-25T17:57:55.607120Z",
     "start_time": "2025-10-25T17:57:55.492784Z"
    }
   },
   "cell_type": "code",
   "source": [
    "df_reference = pd.read_excel(\"../final/filtered_data_505(1).xlsx\")\n",
    "df_target = pd.read_excel(\"../final/chinese_enemy_data.xlsx\")"
   ],
   "id": "8eae29227fedc7ff",
   "outputs": [],
   "execution_count": 80
  },
  {
   "metadata": {
    "ExecuteTime": {
     "end_time": "2025-10-25T17:57:55.626361Z",
     "start_time": "2025-10-25T17:57:55.614714Z"
    }
   },
   "cell_type": "code",
   "source": [
    "# Fill missing data with empty strings\n",
    "df_reference = df_reference.fillna(\"\")\n",
    "df_target = df_target.fillna(\"\")"
   ],
   "id": "58d8ed19baadb9e",
   "outputs": [],
   "execution_count": 81
  },
  {
   "metadata": {
    "ExecuteTime": {
     "end_time": "2025-10-25T17:57:55.655974Z",
     "start_time": "2025-10-25T17:57:55.633677Z"
    }
   },
   "cell_type": "code",
   "source": [
    "#o dict-of-dicts format\n",
    "data_reference = df_reference.to_dict(orient='index')\n",
    "data_target = df_target.to_dict(orient='index')"
   ],
   "id": "f94137db61c7696e",
   "outputs": [],
   "execution_count": 82
  },
  {
   "metadata": {
    "ExecuteTime": {
     "end_time": "2025-10-25T17:57:55.669177Z",
     "start_time": "2025-10-25T17:57:55.663758Z"
    }
   },
   "cell_type": "code",
   "source": [
    "fields = [\n",
    "    {'field': 'Product name', 'type': 'String', 'has_missing': True, 'weight': 2},\n",
    "    {'field': 'Function', 'type': 'String', 'has_missing': True, 'weight': 1.5},\n",
    "    {'field': 'Actuator size', 'type': 'String', 'has_missing': True, 'weight': 1},\n",
    "    {'field': 'Coil connection', 'type': 'String', 'has_missing': True, 'weight': 1},\n",
    "    {'field': 'Kv value [m³/h]', 'type': 'Price', 'has_missing': True, 'weight': 2},\n",
    "    {'field': 'Orifice size [mm]', 'type': 'Price', 'has_missing': True, 'weight': 2},\n",
    "    {'field': 'Max. Working Pressure [bar]', 'type': 'Price', 'has_missing': True, 'weight': 1},\n",
    "    {'field': 'Supply voltage [V] AC', 'type': 'String', 'has_missing': True, 'weight': 1},\n",
    "    {'field': 'Refrigerants', 'type': 'Categorical', 'has_missing': True, 'weight': 1},\n",
    "]"
   ],
   "id": "ce3f8993a655a72e",
   "outputs": [],
   "execution_count": 83
  },
  {
   "metadata": {
    "ExecuteTime": {
     "end_time": "2025-10-25T17:57:55.714387Z",
     "start_time": "2025-10-25T17:57:55.676166Z"
    }
   },
   "cell_type": "code",
   "source": [
    "# === Initialize Dedupe ===\n",
    "deduper = dedupe.RecordLink(fields)\n",
    "\n",
    "# Train or load settings\n",
    "settings_file = 'valve_dedupe_settings.json'\n",
    "training_file = 'valve_training.json'\n",
    "\n",
    "if os.path.exists(settings_file):\n",
    "    with open(settings_file, 'rb') as f:\n",
    "        deduper.prepare_training(data_reference, data_target, training_file=training_file)\n",
    "        deduper.read_settings(f)\n",
    "else:\n",
    "    deduper.prepare_training(data_reference, data_target, training_file=training_file)\n",
    "    print(\"🔹 Starting interactive labeling (press Enter for unsure)...\")\n",
    "    dedupe.consoleLabel(deduper)\n",
    "    deduper.train()\n",
    "    with open(settings_file, 'wb') as f:\n",
    "        deduper.write_settings(f)\n",
    "\n",
    "# === Match target to reference ===\n",
    "linked_records = deduper.match(data_reference, data_target, threshold=0.5)\n",
    "\n",
    "# === Display top match for each target ===\n",
    "for (ref_id, target_id), score in linked_records:\n",
    "    ref_valve = df_reference.loc[ref_id]\n",
    "    target_valve = df_target.loc[target_id]\n",
    "    print(f\"\\n🔍 Target Valve: {target_valve['<ID>']} — {target_valve['Product name']}\")\n",
    "    print(f\"✅ Closest Match: {ref_valve['<ID>']} — {ref_valve['Product name']}\")\n",
    "    print(f\"Similarity Score: {round(score, 3)}\")"
   ],
   "id": "initial_id",
   "outputs": [
    {
     "ename": "ValueError",
     "evalue": "It looks like you are trying to use a variable definition composed of dictionaries. dedupe 3.0 uses variable objects directly. So instead of [{\"field\": \"name\", \"type\": \"String\"}] we now do [dedupe.variables.String(\"name\")].",
     "output_type": "error",
     "traceback": [
      "\u001B[1;31m---------------------------------------------------------------------------\u001B[0m",
      "\u001B[1;31mValueError\u001B[0m                                Traceback (most recent call last)",
      "Cell \u001B[1;32mIn[84], line 2\u001B[0m\n\u001B[0;32m      1\u001B[0m \u001B[38;5;66;03m# === Initialize Dedupe ===\u001B[39;00m\n\u001B[1;32m----> 2\u001B[0m deduper \u001B[38;5;241m=\u001B[39m dedupe\u001B[38;5;241m.\u001B[39mRecordLink(fields)\n\u001B[0;32m      4\u001B[0m \u001B[38;5;66;03m# Train or load settings\u001B[39;00m\n\u001B[0;32m      5\u001B[0m settings_file \u001B[38;5;241m=\u001B[39m \u001B[38;5;124m'\u001B[39m\u001B[38;5;124mvalve_dedupe_settings.json\u001B[39m\u001B[38;5;124m'\u001B[39m\n",
      "File \u001B[1;32m~\\anaconda3\\Lib\\site-packages\\dedupe\\api.py:1141\u001B[0m, in \u001B[0;36mActiveMatching.__init__\u001B[1;34m(self, variable_definition, num_cores, in_memory, **kwargs)\u001B[0m\n\u001B[0;32m   1115\u001B[0m \u001B[38;5;250m\u001B[39m\u001B[38;5;124;03m\"\"\"\u001B[39;00m\n\u001B[0;32m   1116\u001B[0m \u001B[38;5;124;03mArgs:\u001B[39;00m\n\u001B[0;32m   1117\u001B[0m \u001B[38;5;124;03m    variable_definition: A list of Variable objects describing\u001B[39;00m\n\u001B[1;32m   (...)\u001B[0m\n\u001B[0;32m   1137\u001B[0m \n\u001B[0;32m   1138\u001B[0m \u001B[38;5;124;03m\"\"\"\u001B[39;00m\n\u001B[0;32m   1139\u001B[0m \u001B[38;5;28msuper\u001B[39m()\u001B[38;5;241m.\u001B[39m\u001B[38;5;21m__init__\u001B[39m(num_cores, in_memory, \u001B[38;5;241m*\u001B[39m\u001B[38;5;241m*\u001B[39mkwargs)\n\u001B[1;32m-> 1141\u001B[0m \u001B[38;5;28mself\u001B[39m\u001B[38;5;241m.\u001B[39mdata_model \u001B[38;5;241m=\u001B[39m datamodel\u001B[38;5;241m.\u001B[39mDataModel(variable_definition)\n\u001B[0;32m   1142\u001B[0m \u001B[38;5;28mself\u001B[39m\u001B[38;5;241m.\u001B[39mtraining_pairs \u001B[38;5;241m=\u001B[39m {\u001B[38;5;124m\"\u001B[39m\u001B[38;5;124mdistinct\u001B[39m\u001B[38;5;124m\"\u001B[39m: [], \u001B[38;5;124m\"\u001B[39m\u001B[38;5;124mmatch\u001B[39m\u001B[38;5;124m\"\u001B[39m: []}\n\u001B[0;32m   1143\u001B[0m \u001B[38;5;28mself\u001B[39m\u001B[38;5;241m.\u001B[39mclassifier \u001B[38;5;241m=\u001B[39m sklearn\u001B[38;5;241m.\u001B[39mmodel_selection\u001B[38;5;241m.\u001B[39mGridSearchCV(\n\u001B[0;32m   1144\u001B[0m     estimator\u001B[38;5;241m=\u001B[39msklearn\u001B[38;5;241m.\u001B[39mlinear_model\u001B[38;5;241m.\u001B[39mLogisticRegression(),\n\u001B[0;32m   1145\u001B[0m     param_grid\u001B[38;5;241m=\u001B[39m{\u001B[38;5;124m\"\u001B[39m\u001B[38;5;124mC\u001B[39m\u001B[38;5;124m\"\u001B[39m: [\u001B[38;5;241m0.00001\u001B[39m, \u001B[38;5;241m0.0001\u001B[39m, \u001B[38;5;241m0.001\u001B[39m, \u001B[38;5;241m0.01\u001B[39m, \u001B[38;5;241m0.1\u001B[39m, \u001B[38;5;241m1\u001B[39m, \u001B[38;5;241m10\u001B[39m]},\n\u001B[0;32m   1146\u001B[0m     scoring\u001B[38;5;241m=\u001B[39m\u001B[38;5;124m\"\u001B[39m\u001B[38;5;124mf1\u001B[39m\u001B[38;5;124m\"\u001B[39m,\n\u001B[0;32m   1147\u001B[0m     n_jobs\u001B[38;5;241m=\u001B[39m\u001B[38;5;241m-\u001B[39m\u001B[38;5;241m1\u001B[39m,\n\u001B[0;32m   1148\u001B[0m )\n",
      "File \u001B[1;32m~\\anaconda3\\Lib\\site-packages\\dedupe\\datamodel.py:32\u001B[0m, in \u001B[0;36mDataModel.__init__\u001B[1;34m(self, variable_definitions)\u001B[0m\n\u001B[0;32m     30\u001B[0m \u001B[38;5;28;01mfor\u001B[39;00m item \u001B[38;5;129;01min\u001B[39;00m variable_definitions:\n\u001B[0;32m     31\u001B[0m     \u001B[38;5;28;01mif\u001B[39;00m \u001B[38;5;28misinstance\u001B[39m(item, Mapping):\n\u001B[1;32m---> 32\u001B[0m         \u001B[38;5;28;01mraise\u001B[39;00m \u001B[38;5;167;01mValueError\u001B[39;00m(\n\u001B[0;32m     33\u001B[0m             \u001B[38;5;124m\"\u001B[39m\u001B[38;5;124mIt looks like you are trying to use a variable definition \u001B[39m\u001B[38;5;124m\"\u001B[39m\n\u001B[0;32m     34\u001B[0m             \u001B[38;5;124m\"\u001B[39m\u001B[38;5;124mcomposed of dictionaries. dedupe 3.0 uses variable objects \u001B[39m\u001B[38;5;124m\"\u001B[39m\n\u001B[0;32m     35\u001B[0m             \u001B[38;5;124m'\u001B[39m\u001B[38;5;124mdirectly. So instead of [\u001B[39m\u001B[38;5;124m{\u001B[39m\u001B[38;5;124m\"\u001B[39m\u001B[38;5;124mfield\u001B[39m\u001B[38;5;124m\"\u001B[39m\u001B[38;5;124m: \u001B[39m\u001B[38;5;124m\"\u001B[39m\u001B[38;5;124mname\u001B[39m\u001B[38;5;124m\"\u001B[39m\u001B[38;5;124m, \u001B[39m\u001B[38;5;124m\"\u001B[39m\u001B[38;5;124mtype\u001B[39m\u001B[38;5;124m\"\u001B[39m\u001B[38;5;124m: \u001B[39m\u001B[38;5;124m\"\u001B[39m\u001B[38;5;124mString\u001B[39m\u001B[38;5;124m\"\u001B[39m\u001B[38;5;124m}] \u001B[39m\u001B[38;5;124m'\u001B[39m\n\u001B[0;32m     36\u001B[0m             \u001B[38;5;124m'\u001B[39m\u001B[38;5;124mwe now do [dedupe.variables.String(\u001B[39m\u001B[38;5;124m\"\u001B[39m\u001B[38;5;124mname\u001B[39m\u001B[38;5;124m\"\u001B[39m\u001B[38;5;124m)].\u001B[39m\u001B[38;5;124m'\u001B[39m\n\u001B[0;32m     37\u001B[0m         )\n\u001B[0;32m     39\u001B[0m variable_definitions \u001B[38;5;241m=\u001B[39m \u001B[38;5;28mlist\u001B[39m(variable_definitions)\n\u001B[0;32m     40\u001B[0m \u001B[38;5;28;01mif\u001B[39;00m \u001B[38;5;129;01mnot\u001B[39;00m variable_definitions:\n",
      "\u001B[1;31mValueError\u001B[0m: It looks like you are trying to use a variable definition composed of dictionaries. dedupe 3.0 uses variable objects directly. So instead of [{\"field\": \"name\", \"type\": \"String\"}] we now do [dedupe.variables.String(\"name\")]."
     ]
    }
   ],
   "execution_count": 84
  },
  {
   "metadata": {
    "ExecuteTime": {
     "end_time": "2025-10-25T17:57:55.717854200Z",
     "start_time": "2025-10-25T17:31:36.998397Z"
    }
   },
   "cell_type": "code",
   "source": [
    "# Example    DataFrame\n",
    "df = pd.read_excel(\"../final/filtered_data_505(1).xlsx\")\n",
    "\n",
    "# Dedupe requires a dict of dicts like:\n",
    "# { record_id: {'field1': value, 'field2': value, ...}, ... }\n",
    "\n",
    "# only valves\n",
    "df = df.iloc[102:]\n",
    "\n",
    "data_d = df.to_dict(orient='index')\n"
   ],
   "id": "e68342275948878",
   "outputs": [],
   "execution_count": 70
  },
  {
   "metadata": {
    "ExecuteTime": {
     "end_time": "2025-10-25T17:57:55.723702700Z",
     "start_time": "2025-10-25T17:31:37.115177Z"
    }
   },
   "cell_type": "code",
   "source": [
    "columns = df.columns.tolist()\n",
    "print(columns)"
   ],
   "id": "27e93263ce1e1607",
   "outputs": [
    {
     "name": "stdout",
     "output_type": "stream",
     "text": [
      "['<ID>', 'Product name', 'Actuator size', 'Actuator size [in]', 'Actuator system [mm]', 'Coil', 'Coil connection', 'Connection size [in]', 'Connection size [mm]', 'Connection type', 'Cv value [gal/min]', 'Cv value invert flow [gal/min]', 'Direction', 'Electrical connection', 'Enclosure rating IP', 'Frequency [Hz]', 'Function', 'Kv value [m³/h]', 'Kv value invert flow [m³/h]', 'Manual operation option', 'Max. Working Pressure [bar]', 'Max. Working Pressure [psig]', 'Media recommendations', 'Orifice size [mm]', 'Orifice size fraction [in]', 'Parts Program name', 'Power consumption [W]', 'Power consumption [W] 50Hz', 'Power consumption [W] 60Hz', 'Power consumption [W] DC', 'Refrigerants', 'Supply voltage [V] AC', 'Supply voltage [V] AC [max]', 'Supply voltage [V] AC [min]', 'Supply voltage [V] DC']\n"
     ]
    }
   ],
   "execution_count": 71
  },
  {
   "metadata": {
    "ExecuteTime": {
     "end_time": "2025-10-25T17:57:55.723702700Z",
     "start_time": "2025-10-25T17:31:37.166334Z"
    }
   },
   "cell_type": "code",
   "source": "import dedupe",
   "id": "d38f54726144772",
   "outputs": [],
   "execution_count": 72
  },
  {
   "metadata": {
    "ExecuteTime": {
     "end_time": "2025-10-25T17:57:55.723702700Z",
     "start_time": "2025-10-25T17:31:37.190983Z"
    }
   },
   "cell_type": "code",
   "source": [
    "df = df.fillna('')             # replace NaNs with empty string\n",
    "df = df.astype(str)            # convert ALL columns to string\n"
   ],
   "id": "31ba6b87e9332aac",
   "outputs": [],
   "execution_count": 73
  },
  {
   "metadata": {
    "ExecuteTime": {
     "end_time": "2025-10-25T17:57:55.723702700Z",
     "start_time": "2025-10-25T17:31:37.210344Z"
    }
   },
   "cell_type": "code",
   "source": [
    "fields = [\n",
    "    dedupe.variables.String(\"Product name\"),\n",
    "    dedupe.variables.String(\"Actuator size\"),\n",
    "    dedupe.variables.String(\"Actuator size [in]\"),\n",
    "    dedupe.variables.String(\"Actuator system [mm]\"),\n",
    "    dedupe.variables.String(\"Coil\"),\n",
    "    dedupe.variables.String(\"Coil connection\"),\n",
    "    dedupe.variables.String(\"Connection size [in]\"),\n",
    "    dedupe.variables.String(\"Connection size [mm]\"),\n",
    "    dedupe.variables.String(\"Connection type\"),\n",
    "    dedupe.variables.String(\"Cv value [gal/min]\"),\n",
    "    dedupe.variables.String(\"Cv value invert flow [gal/min]\"),\n",
    "    dedupe.variables.String(\"Direction\"),\n",
    "    dedupe.variables.String(\"Electrical connection\"),\n",
    "    dedupe.variables.String(\"Enclosure rating IP\"),\n",
    "    dedupe.variables.String(\"Frequency [Hz]\"),\n",
    "    dedupe.variables.String(\"Function\"),\n",
    "    dedupe.variables.String(\"Kv value [m³/h]\"),\n",
    "    dedupe.variables.String(\"Kv value invert flow [m³/h]\"),\n",
    "    dedupe.variables.String(\"Manual operation option\"),\n",
    "    dedupe.variables.String(\"Max. Working Pressure [bar]\"),\n",
    "    dedupe.variables.String(\"Max. Working Pressure [psig]\"),\n",
    "    dedupe.variables.String(\"Media recommendations\"),\n",
    "    dedupe.variables.String(\"Orifice size [mm]\"),\n",
    "    dedupe.variables.String(\"Orifice size fraction [in]\"),\n",
    "    dedupe.variables.String(\"Parts Program name\"),\n",
    "    dedupe.variables.String(\"Power consumption [W]\"),\n",
    "    dedupe.variables.String(\"Power consumption [W] 50Hz\"),\n",
    "    dedupe.variables.String(\"Power consumption [W] 60Hz\"),\n",
    "    dedupe.variables.String(\"Power consumption [W] DC\"),\n",
    "    dedupe.variables.String(\"Refrigerants\"),\n",
    "    dedupe.variables.String(\"Supply voltage [V] AC\"),\n",
    "    dedupe.variables.String(\"Supply voltage [V] AC [max]\"),\n",
    "    dedupe.variables.String(\"Supply voltage [V] AC [min]\"),\n",
    "    dedupe.variables.String(\"Supply voltage [V] DC\"),\n",
    "]\n"
   ],
   "id": "2c870b95d3bbe95b",
   "outputs": [],
   "execution_count": 74
  },
  {
   "metadata": {
    "ExecuteTime": {
     "end_time": "2025-10-25T17:57:55.723702700Z",
     "start_time": "2025-10-25T17:31:37.231875Z"
    }
   },
   "cell_type": "code",
   "source": "",
   "id": "7bca785564124b2e",
   "outputs": [],
   "execution_count": null
  },
  {
   "metadata": {
    "ExecuteTime": {
     "end_time": "2025-10-25T17:57:55.723702700Z",
     "start_time": "2025-10-25T17:31:37.244303Z"
    }
   },
   "cell_type": "code",
   "source": [
    "deduper = dedupe.Dedupe(fields)\n",
    "\n",
    "# Prepare training\n",
    "deduper.prepare_training(data_d)\n",
    "\n",
    "# Minimal auto training — we can skip manual labeling\n",
    "deduper.train()\n"
   ],
   "id": "3259d76f54d03545",
   "outputs": [
    {
     "ename": "AttributeError",
     "evalue": "'float' object has no attribute 'translate'",
     "output_type": "error",
     "traceback": [
      "\u001B[1;31m---------------------------------------------------------------------------\u001B[0m",
      "\u001B[1;31mAttributeError\u001B[0m                            Traceback (most recent call last)",
      "Cell \u001B[1;32mIn[75], line 4\u001B[0m\n\u001B[0;32m      1\u001B[0m deduper \u001B[38;5;241m=\u001B[39m dedupe\u001B[38;5;241m.\u001B[39mDedupe(fields)\n\u001B[0;32m      3\u001B[0m \u001B[38;5;66;03m# Prepare training\u001B[39;00m\n\u001B[1;32m----> 4\u001B[0m deduper\u001B[38;5;241m.\u001B[39mprepare_training(data_d)\n\u001B[0;32m      6\u001B[0m \u001B[38;5;66;03m# Minimal auto training — we can skip manual labeling\u001B[39;00m\n\u001B[0;32m      7\u001B[0m deduper\u001B[38;5;241m.\u001B[39mtrain()\n",
      "File \u001B[1;32m~\\anaconda3\\Lib\\site-packages\\dedupe\\api.py:1408\u001B[0m, in \u001B[0;36mDedupe.prepare_training\u001B[1;34m(self, data, training_file, sample_size, blocked_proportion)\u001B[0m\n\u001B[0;32m   1404\u001B[0m \u001B[38;5;66;03m# We need the active learner to know about all our\u001B[39;00m\n\u001B[0;32m   1405\u001B[0m \u001B[38;5;66;03m# existing training data, so add them to data dictionary\u001B[39;00m\n\u001B[0;32m   1406\u001B[0m examples, y \u001B[38;5;241m=\u001B[39m flatten_training(\u001B[38;5;28mself\u001B[39m\u001B[38;5;241m.\u001B[39mtraining_pairs)\n\u001B[1;32m-> 1408\u001B[0m \u001B[38;5;28mself\u001B[39m\u001B[38;5;241m.\u001B[39mactive_learner \u001B[38;5;241m=\u001B[39m labeler\u001B[38;5;241m.\u001B[39mDedupeDisagreementLearner(\n\u001B[0;32m   1409\u001B[0m     \u001B[38;5;28mself\u001B[39m\u001B[38;5;241m.\u001B[39mdata_model\u001B[38;5;241m.\u001B[39mpredicates,\n\u001B[0;32m   1410\u001B[0m     \u001B[38;5;28mself\u001B[39m\u001B[38;5;241m.\u001B[39mdata_model\u001B[38;5;241m.\u001B[39mdistances,\n\u001B[0;32m   1411\u001B[0m     data,\n\u001B[0;32m   1412\u001B[0m     index_include\u001B[38;5;241m=\u001B[39mexamples,\n\u001B[0;32m   1413\u001B[0m )\n\u001B[0;32m   1415\u001B[0m \u001B[38;5;28mself\u001B[39m\u001B[38;5;241m.\u001B[39mactive_learner\u001B[38;5;241m.\u001B[39mmark(examples, y)\n",
      "File \u001B[1;32m~\\anaconda3\\Lib\\site-packages\\dedupe\\labeler.py:444\u001B[0m, in \u001B[0;36mDedupeDisagreementLearner.__init__\u001B[1;34m(self, candidate_predicates, featurizer, data, index_include)\u001B[0m\n\u001B[0;32m    441\u001B[0m index_include \u001B[38;5;241m=\u001B[39m index_include\u001B[38;5;241m.\u001B[39mcopy()\n\u001B[0;32m    442\u001B[0m index_include\u001B[38;5;241m.\u001B[39mappend(exact_match)\n\u001B[1;32m--> 444\u001B[0m \u001B[38;5;28mself\u001B[39m\u001B[38;5;241m.\u001B[39mblocker \u001B[38;5;241m=\u001B[39m DedupeBlockLearner(candidate_predicates, data, index_include)\n\u001B[0;32m    446\u001B[0m \u001B[38;5;28mself\u001B[39m\u001B[38;5;241m.\u001B[39m_candidates \u001B[38;5;241m=\u001B[39m \u001B[38;5;28mself\u001B[39m\u001B[38;5;241m.\u001B[39mblocker\u001B[38;5;241m.\u001B[39mcandidates\u001B[38;5;241m.\u001B[39mcopy()\n\u001B[0;32m    448\u001B[0m \u001B[38;5;28mself\u001B[39m\u001B[38;5;241m.\u001B[39mmatcher \u001B[38;5;241m=\u001B[39m MatchLearner(featurizer, \u001B[38;5;28mself\u001B[39m\u001B[38;5;241m.\u001B[39mcandidates)\n",
      "File \u001B[1;32m~\\anaconda3\\Lib\\site-packages\\dedupe\\labeler.py:236\u001B[0m, in \u001B[0;36mDedupeBlockLearner.__init__\u001B[1;34m(self, candidate_predicates, data, index_include)\u001B[0m\n\u001B[0;32m    233\u001B[0m sampled_records \u001B[38;5;241m=\u001B[39m sample_records(index_data, N_SAMPLED_RECORDS)\n\u001B[0;32m    235\u001B[0m preds \u001B[38;5;241m=\u001B[39m _filter_canopy_predicates(candidate_predicates, canopies\u001B[38;5;241m=\u001B[39m\u001B[38;5;28;01mTrue\u001B[39;00m)\n\u001B[1;32m--> 236\u001B[0m \u001B[38;5;28mself\u001B[39m\u001B[38;5;241m.\u001B[39mblock_learner \u001B[38;5;241m=\u001B[39m training\u001B[38;5;241m.\u001B[39mDedupeBlockLearner(\n\u001B[0;32m    237\u001B[0m     preds, sampled_records, index_data\n\u001B[0;32m    238\u001B[0m )\n\u001B[0;32m    240\u001B[0m \u001B[38;5;28mself\u001B[39m\u001B[38;5;241m.\u001B[39m_candidates \u001B[38;5;241m=\u001B[39m \u001B[38;5;28mself\u001B[39m\u001B[38;5;241m.\u001B[39m_sample(sampled_records, N_SAMPLED_RECORD_PAIRS)\n\u001B[0;32m    241\u001B[0m examples_to_index \u001B[38;5;241m=\u001B[39m \u001B[38;5;28mself\u001B[39m\u001B[38;5;241m.\u001B[39mcandidates\u001B[38;5;241m.\u001B[39mcopy()\n",
      "File \u001B[1;32m~\\anaconda3\\Lib\\site-packages\\dedupe\\training.py:140\u001B[0m, in \u001B[0;36mDedupeBlockLearner.__init__\u001B[1;34m(self, predicates, sampled_records, data)\u001B[0m\n\u001B[0;32m    136\u001B[0m \u001B[38;5;28;01mdef\u001B[39;00m\u001B[38;5;250m \u001B[39m\u001B[38;5;21m__init__\u001B[39m(\n\u001B[0;32m    137\u001B[0m     \u001B[38;5;28mself\u001B[39m, predicates: Iterable[Predicate], sampled_records: Data, data: Data\n\u001B[0;32m    138\u001B[0m ):\n\u001B[0;32m    139\u001B[0m     \u001B[38;5;28mself\u001B[39m\u001B[38;5;241m.\u001B[39mblocker \u001B[38;5;241m=\u001B[39m blocking\u001B[38;5;241m.\u001B[39mFingerprinter(predicates)\n\u001B[1;32m--> 140\u001B[0m     \u001B[38;5;28mself\u001B[39m\u001B[38;5;241m.\u001B[39mblocker\u001B[38;5;241m.\u001B[39mindex_all(data)\n\u001B[0;32m    142\u001B[0m     \u001B[38;5;28mself\u001B[39m\u001B[38;5;241m.\u001B[39mcomparison_cover \u001B[38;5;241m=\u001B[39m \u001B[38;5;28mself\u001B[39m\u001B[38;5;241m.\u001B[39mcoveredPairs(\u001B[38;5;28mself\u001B[39m\u001B[38;5;241m.\u001B[39mblocker, sampled_records)\n",
      "File \u001B[1;32m~\\anaconda3\\Lib\\site-packages\\dedupe\\blocking.py:192\u001B[0m, in \u001B[0;36mFingerprinter.index_all\u001B[1;34m(self, data)\u001B[0m\n\u001B[0;32m    190\u001B[0m \u001B[38;5;28;01mfor\u001B[39;00m field \u001B[38;5;129;01min\u001B[39;00m \u001B[38;5;28mself\u001B[39m\u001B[38;5;241m.\u001B[39mindex_fields:\n\u001B[0;32m    191\u001B[0m     unique_fields \u001B[38;5;241m=\u001B[39m {record[field] \u001B[38;5;28;01mfor\u001B[39;00m record \u001B[38;5;129;01min\u001B[39;00m data\u001B[38;5;241m.\u001B[39mvalues() \u001B[38;5;28;01mif\u001B[39;00m record[field]}\n\u001B[1;32m--> 192\u001B[0m     \u001B[38;5;28mself\u001B[39m\u001B[38;5;241m.\u001B[39mindex(unique_fields, field)\n",
      "File \u001B[1;32m~\\anaconda3\\Lib\\site-packages\\dedupe\\blocking.py:149\u001B[0m, in \u001B[0;36mFingerprinter.index\u001B[1;34m(self, docs, field)\u001B[0m\n\u001B[0;32m    147\u001B[0m     \u001B[38;5;28;01mif\u001B[39;00m doc:\n\u001B[0;32m    148\u001B[0m         \u001B[38;5;28;01mfor\u001B[39;00m _, index, preprocess \u001B[38;5;129;01min\u001B[39;00m indices:\n\u001B[1;32m--> 149\u001B[0m             index\u001B[38;5;241m.\u001B[39mindex(preprocess(doc))\n\u001B[0;32m    151\u001B[0m \u001B[38;5;28;01mfor\u001B[39;00m index_type, index, _ \u001B[38;5;129;01min\u001B[39;00m indices:\n\u001B[0;32m    152\u001B[0m     index\u001B[38;5;241m.\u001B[39minitSearch()\n",
      "File \u001B[1;32m~\\anaconda3\\Lib\\site-packages\\dedupe\\predicates.py:302\u001B[0m, in \u001B[0;36mTfidfNGramPredicate.preprocess\u001B[1;34m(self, doc)\u001B[0m\n\u001B[0;32m    301\u001B[0m \u001B[38;5;28;01mdef\u001B[39;00m\u001B[38;5;250m \u001B[39m\u001B[38;5;21mpreprocess\u001B[39m(\u001B[38;5;28mself\u001B[39m, doc: \u001B[38;5;28mstr\u001B[39m) \u001B[38;5;241m-\u001B[39m\u001B[38;5;241m>\u001B[39m Sequence[\u001B[38;5;28mstr\u001B[39m]:\n\u001B[1;32m--> 302\u001B[0m     \u001B[38;5;28;01mreturn\u001B[39;00m \u001B[38;5;28mtuple\u001B[39m(\u001B[38;5;28msorted\u001B[39m(ngrams(\u001B[38;5;124m\"\u001B[39m\u001B[38;5;124m \u001B[39m\u001B[38;5;124m\"\u001B[39m\u001B[38;5;241m.\u001B[39mjoin(strip_punc(doc)\u001B[38;5;241m.\u001B[39msplit()), \u001B[38;5;241m2\u001B[39m)))\n",
      "File \u001B[1;32m~\\anaconda3\\Lib\\site-packages\\dedupe\\predicates.py:31\u001B[0m, in \u001B[0;36mstrip_punc\u001B[1;34m(s)\u001B[0m\n\u001B[0;32m     30\u001B[0m \u001B[38;5;28;01mdef\u001B[39;00m\u001B[38;5;250m \u001B[39m\u001B[38;5;21mstrip_punc\u001B[39m(s: \u001B[38;5;28mstr\u001B[39m) \u001B[38;5;241m-\u001B[39m\u001B[38;5;241m>\u001B[39m \u001B[38;5;28mstr\u001B[39m:\n\u001B[1;32m---> 31\u001B[0m     \u001B[38;5;28;01mreturn\u001B[39;00m s\u001B[38;5;241m.\u001B[39mtranslate(PUNCTABLE)\n",
      "\u001B[1;31mAttributeError\u001B[0m: 'float' object has no attribute 'translate'"
     ]
    }
   ],
   "execution_count": 75
  }
 ],
 "metadata": {
  "kernelspec": {
   "display_name": "Python 3",
   "language": "python",
   "name": "python3"
  },
  "language_info": {
   "codemirror_mode": {
    "name": "ipython",
    "version": 2
   },
   "file_extension": ".py",
   "mimetype": "text/x-python",
   "name": "python",
   "nbconvert_exporter": "python",
   "pygments_lexer": "ipython2",
   "version": "2.7.6"
  }
 },
 "nbformat": 4,
 "nbformat_minor": 5
}
