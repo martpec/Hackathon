{
 "cells": [
  {
   "cell_type": "code",
   "id": "initial_id",
   "metadata": {
    "collapsed": true,
    "ExecuteTime": {
     "end_time": "2025-10-25T08:41:34.865199Z",
     "start_time": "2025-10-25T08:41:34.851732Z"
    }
   },
   "source": "import pandas as pd\n",
   "outputs": [],
   "execution_count": 18
  },
  {
   "metadata": {
    "ExecuteTime": {
     "end_time": "2025-10-25T08:41:35.209891Z",
     "start_time": "2025-10-25T08:41:34.911745Z"
    }
   },
   "cell_type": "code",
   "source": [
    "# Load the CSV file (replace the path with your own file location)\n",
    "df = pd.read_excel('data/filtered_only(3).xlsx')\n",
    "# Show the first 5 rows\n",
    "must_have_data = ['Actuator size', 'Actuator system [mm]','Coil connection', 'Cv value [gal/min]', 'Electrical connection', 'Enclosure rating IP', 'Frequency [Hz]', 'Function',  'Inlet connection type', 'Inlet size [in]', 'Inlet size [mm]', 'Kv value [m³/h]', 'Outlet connection type', 'Outlet size [in]', 'Outlet size [mm]','Refrigerants', 'Supply voltage 50Hz Max [V]', 'Supply voltage 50Hz Min [V]', 'Supply voltage 60Hz Max [V]', 'Supply voltage 60Hz Min [V]', 'Supply voltage [V] AC', 'Supply voltage [V] AC [max]', 'Supply voltage [V] AC [min]', 'Supply voltage [V] DC']\n",
    "\n",
    "df[must_have_data] = df[must_have_data].fillna('BLANK').replace('', 'BLANK').replace(' ', 'BLANK')\n",
    "\n"
   ],
   "id": "525440f99732ac60",
   "outputs": [],
   "execution_count": 19
  },
  {
   "metadata": {
    "ExecuteTime": {
     "end_time": "2025-10-25T08:41:35.234913Z",
     "start_time": "2025-10-25T08:41:35.221917Z"
    }
   },
   "cell_type": "code",
   "source": [
    "columns = df.columns.tolist()\n",
    "print(columns)\n",
    "\n",
    "# valve to target - search similar to this one\n",
    "target_index = 288\n",
    "target_index2 = 290\n",
    "target_row = df.iloc[target_index]\n",
    "target_row2 = df.iloc[target_index2]\n",
    "df = df.drop(index=target_index)\n",
    "\n",
    "# remove first 14 values\n",
    "df = df.iloc[14:]\n",
    "print(len(df))"
   ],
   "id": "743a5d081cc1693",
   "outputs": [
    {
     "name": "stdout",
     "output_type": "stream",
     "text": [
      "['<ID>', '<Object Type>', 'Product name', 'Headline', 'Actuator size', 'Actuator system [mm]', 'Ambient temperature', 'Ambient temperature range [°C] [max]', 'Ambient temperature range [°C] [min]', 'Approval', 'Cable length [m]', 'Coil', 'Coil connection', 'Coil type', 'Cv value [gal/min]', 'Cv value invert flow [gal/min]', 'Direction', 'Electrical connection', 'Enclosure rating IP', 'Frequency [Hz]', 'Function', 'Identical product', 'Inlet connection type', 'Inlet size [in]', 'Inlet size [mm]', 'Kv value [m³/h]', 'Kv value invert flow [m³/h]', 'Manual operation option', 'Max. Working Pressure [bar]', 'Max. Working Pressure [psig]', 'MaxOPD[bar] 10W AC', 'MaxOPD[bar] 12W AC', 'MaxOPD[bar] 14W AC', 'MaxOPD[bar] 20W DC', 'MaxOPD[bar] coil BJ/BX', 'MaxOPD[psi] 10W AC', 'MaxOPD[psi] 14W AC', 'MaxOPD[psi] 20W DC', 'MaxOPD[psi] coil BJ/BX', 'Medium temperature range [°C] [max]', 'Medium temperature range [°C] [min]', 'MinODP [bar]', 'MinODP [psi]', 'MOPD[bar/psi]', 'Outlet connection type', 'Outlet size [in]', 'Outlet size [mm]', 'Parts Program name', 'Power consumption', 'Power consumption 50Hz [VA]', 'Power consumption 60Hz [VA]', 'Power consumption [W] 50Hz', 'Power consumption [W] 60Hz', 'Power consumption [W] DC', 'Refrigerants', 'Supply voltage 50Hz Max [V]', 'Supply voltage 50Hz Min [V]', 'Supply voltage 60Hz Max [V]', 'Supply voltage 60Hz Min [V]', 'Supply voltage [V] AC', 'Supply voltage [V] AC [max]', 'Supply voltage [V] AC [min]', 'Supply voltage [V] DC']\n",
      "308\n"
     ]
    }
   ],
   "execution_count": 20
  },
  {
   "metadata": {
    "ExecuteTime": {
     "end_time": "2025-10-25T08:41:35.269572Z",
     "start_time": "2025-10-25T08:41:35.261021Z"
    }
   },
   "cell_type": "code",
   "source": [
    "comparison = target_row == target_row2\n",
    "matching_columns = comparison[comparison].index.tolist()\n",
    "print(\"Matching columns:\", matching_columns)"
   ],
   "id": "5b085f8d0eaae56",
   "outputs": [
    {
     "name": "stdout",
     "output_type": "stream",
     "text": [
      "Matching columns: ['<Object Type>', 'Product name', 'Headline', 'Actuator size', 'Actuator system [mm]', 'Ambient temperature', 'Approval', 'Coil', 'Coil connection', 'Cv value [gal/min]', 'Direction', 'Electrical connection', 'Enclosure rating IP', 'Frequency [Hz]', 'Function', 'Inlet connection type', 'Inlet size [in]', 'Inlet size [mm]', 'Kv value [m³/h]', 'Manual operation option', 'Max. Working Pressure [bar]', 'Max. Working Pressure [psig]', 'MaxOPD[bar] 10W AC', 'MaxOPD[psi] 10W AC', 'Medium temperature range [°C] [max]', 'Medium temperature range [°C] [min]', 'MinODP [bar]', 'MOPD[bar/psi]', 'Outlet connection type', 'Outlet size [in]', 'Outlet size [mm]', 'Parts Program name', 'Refrigerants', 'Supply voltage 50Hz Max [V]', 'Supply voltage 50Hz Min [V]', 'Supply voltage 60Hz Max [V]', 'Supply voltage 60Hz Min [V]', 'Supply voltage [V] AC', 'Supply voltage [V] AC [max]', 'Supply voltage [V] AC [min]', 'Supply voltage [V] DC']\n"
     ]
    }
   ],
   "execution_count": 21
  },
  {
   "metadata": {
    "ExecuteTime": {
     "end_time": "2025-10-25T08:41:35.314307Z",
     "start_time": "2025-10-25T08:41:35.303749Z"
    }
   },
   "cell_type": "code",
   "source": [
    "\n",
    "print(target_row)\n",
    "print(target_row2)"
   ],
   "id": "e5402286c8f647e9",
   "outputs": [
    {
     "name": "stdout",
     "output_type": "stream",
     "text": [
      "<ID>                                                                    032F1201\n",
      "<Object Type>                                                            Product\n",
      "Product name                                                      Solenoid valve\n",
      "Headline                       Solenoid valve, EVR 2, Solder, ODF, 1/4 in, 0....\n",
      "Actuator size                                                              BLANK\n",
      "                                                     ...                        \n",
      "Supply voltage 60Hz Min [V]                                                BLANK\n",
      "Supply voltage [V] AC                                                      BLANK\n",
      "Supply voltage [V] AC [max]                                                BLANK\n",
      "Supply voltage [V] AC [min]                                                BLANK\n",
      "Supply voltage [V] DC                                                      BLANK\n",
      "Name: 288, Length: 63, dtype: object\n",
      "<ID>                                                                  032F1201H1\n",
      "<Object Type>                                                            Product\n",
      "Product name                                                      Solenoid valve\n",
      "Headline                       Solenoid valve, EVR 2, Solder, ODF, 1/4 in, 0....\n",
      "Actuator size                                                              BLANK\n",
      "                                                     ...                        \n",
      "Supply voltage 60Hz Min [V]                                                BLANK\n",
      "Supply voltage [V] AC                                                      BLANK\n",
      "Supply voltage [V] AC [max]                                                BLANK\n",
      "Supply voltage [V] AC [min]                                                BLANK\n",
      "Supply voltage [V] DC                                                      BLANK\n",
      "Name: 290, Length: 63, dtype: object\n"
     ]
    }
   ],
   "execution_count": 22
  },
  {
   "metadata": {
    "ExecuteTime": {
     "end_time": "2025-10-25T08:41:35.385037Z",
     "start_time": "2025-10-25T08:41:35.352897Z"
    }
   },
   "cell_type": "code",
   "source": [
    "mask = (df[must_have_data].fillna('NaN_placeholder')\n",
    "        .eq(target_row[must_have_data].fillna('NaN_placeholder'))\n",
    "        .all(axis=1))\n",
    "\n",
    "# Get all matching rows\n",
    "matching_rows = df[mask]\n",
    "\n",
    "\n",
    "print(matching_rows)\n",
    "len(matching_rows)"
   ],
   "id": "e91b82aa0b02dd64",
   "outputs": [
    {
     "name": "stdout",
     "output_type": "stream",
     "text": [
      "           <ID> <Object Type>    Product name  \\\n",
      "290  032F1201H1       Product  Solenoid valve   \n",
      "292    032F7100       Product  Solenoid valve   \n",
      "\n",
      "                                              Headline Actuator size  \\\n",
      "290  Solenoid valve, EVR 2, Solder, ODF, 1/4 in, 0....         BLANK   \n",
      "292  Solenoid valve, EVR 2, Solder, ODF, 1/4 in, 0....         BLANK   \n",
      "\n",
      "    Actuator system [mm]   Ambient temperature  \\\n",
      "290              13.5 mm           -40 - 80 °C   \n",
      "292              13.5 mm  -40 - Coil dependent   \n",
      "\n",
      "    Ambient temperature range [°C] [max] Ambient temperature range [°C] [min]  \\\n",
      "290                                  NaN                                  NaN   \n",
      "292                                  NaN                                  NaN   \n",
      "\n",
      "                            Approval  ... Power consumption [W] DC  \\\n",
      "290                 EAC;LLC CDC TYSK  ...                      NaN   \n",
      "292  C UL US LISTED;EAC;LLC CDC TYSK  ...                      NaN   \n",
      "\n",
      "                                          Refrigerants  \\\n",
      "290  R1234yf;R1234ze(E);R125;R134a;R152a;R22;R290;R...   \n",
      "292  R1234yf;R1234ze(E);R125;R134a;R152a;R22;R290;R...   \n",
      "\n",
      "    Supply voltage 50Hz Max [V] Supply voltage 50Hz Min [V]  \\\n",
      "290                       BLANK                       BLANK   \n",
      "292                       BLANK                       BLANK   \n",
      "\n",
      "    Supply voltage 60Hz Max [V] Supply voltage 60Hz Min [V]  \\\n",
      "290                       BLANK                       BLANK   \n",
      "292                       BLANK                       BLANK   \n",
      "\n",
      "    Supply voltage [V] AC Supply voltage [V] AC [max]  \\\n",
      "290                 BLANK                       BLANK   \n",
      "292                 BLANK                       BLANK   \n",
      "\n",
      "    Supply voltage [V] AC [min] Supply voltage [V] DC  \n",
      "290                       BLANK                 BLANK  \n",
      "292                       BLANK                 BLANK  \n",
      "\n",
      "[2 rows x 63 columns]\n"
     ]
    },
    {
     "data": {
      "text/plain": [
       "2"
      ]
     },
     "execution_count": 23,
     "metadata": {},
     "output_type": "execute_result"
    }
   ],
   "execution_count": 23
  },
  {
   "metadata": {
    "ExecuteTime": {
     "end_time": "2025-10-25T08:41:35.443232Z",
     "start_time": "2025-10-25T08:41:35.413204Z"
    }
   },
   "cell_type": "code",
   "source": [
    "duplicates = df[df.duplicated(subset=must_have_data, keep=False)]\n",
    "duplicates = duplicates.sort_values(by=must_have_data)\n",
    "\n",
    "print(duplicates.iloc[0])\n",
    "print(duplicates.iloc[1])"
   ],
   "id": "b2c0d7e80ccc298a",
   "outputs": [
    {
     "name": "stdout",
     "output_type": "stream",
     "text": [
      "<ID>                                                                  032F1201H1\n",
      "<Object Type>                                                            Product\n",
      "Product name                                                      Solenoid valve\n",
      "Headline                       Solenoid valve, EVR 2, Solder, ODF, 1/4 in, 0....\n",
      "Actuator size                                                              BLANK\n",
      "                                                     ...                        \n",
      "Supply voltage 60Hz Min [V]                                                BLANK\n",
      "Supply voltage [V] AC                                                      BLANK\n",
      "Supply voltage [V] AC [max]                                                BLANK\n",
      "Supply voltage [V] AC [min]                                                BLANK\n",
      "Supply voltage [V] DC                                                      BLANK\n",
      "Name: 290, Length: 63, dtype: object\n",
      "<ID>                                                                    032F7100\n",
      "<Object Type>                                                            Product\n",
      "Product name                                                      Solenoid valve\n",
      "Headline                       Solenoid valve, EVR 2, Solder, ODF, 1/4 in, 0....\n",
      "Actuator size                                                              BLANK\n",
      "                                                     ...                        \n",
      "Supply voltage 60Hz Min [V]                                                BLANK\n",
      "Supply voltage [V] AC                                                      BLANK\n",
      "Supply voltage [V] AC [max]                                                BLANK\n",
      "Supply voltage [V] AC [min]                                                BLANK\n",
      "Supply voltage [V] DC                                                      BLANK\n",
      "Name: 292, Length: 63, dtype: object\n"
     ]
    }
   ],
   "execution_count": 24
  },
  {
   "metadata": {
    "ExecuteTime": {
     "end_time": "2025-10-25T08:41:35.476861Z",
     "start_time": "2025-10-25T08:41:35.469167Z"
    }
   },
   "cell_type": "code",
   "source": [
    "def numeric_similarity(a, b):\n",
    "    if pd.isna(a) or pd.isna(b):\n",
    "        return 0\n",
    "    return 1 - abs(a - b) / max(abs(a), abs(b), 1e-9)\n",
    "\n",
    "def categorical_similarity(a, b):\n",
    "    return 1.0 if str(a).lower().strip() == str(b).lower().strip() else 0.0"
   ],
   "id": "ab2f1aa2df3d40d",
   "outputs": [],
   "execution_count": 25
  },
  {
   "metadata": {
    "ExecuteTime": {
     "end_time": "2025-10-25T08:41:35.499860Z",
     "start_time": "2025-10-25T08:41:35.489286Z"
    }
   },
   "cell_type": "code",
   "source": [
    "def compute_similarity(item_a, item_b):\n",
    "    total_weight = sum(FEATURE_WEIGHTS.values())\n",
    "    score = 0\n",
    "\n",
    "    for feature, weight in FEATURE_WEIGHTS.items():\n",
    "        val_a = item_a.get(feature)\n",
    "        val_b = item_b.get(feature)\n",
    "\n",
    "        if isinstance(val_a, (int, float)) and isinstance(val_b, (int, float)):\n",
    "            sim = numeric_similarity(val_a, val_b)\n",
    "        else:\n",
    "            sim = categorical_similarity(val_a, val_b)\n",
    "\n",
    "        score += sim * weight\n",
    "\n",
    "    return score / total_weight"
   ],
   "id": "589dbb987d326e97",
   "outputs": [],
   "execution_count": 26
  },
  {
   "metadata": {
    "ExecuteTime": {
     "end_time": "2025-10-25T08:41:35.535619Z",
     "start_time": "2025-10-25T08:41:35.509923Z"
    }
   },
   "cell_type": "code",
   "source": [
    "selected_a = df_a.iloc[0].to_dict()\n",
    "df_b[\"similarity\"] = df_b.apply(lambda row: compute_similarity(selected_a, row.to_dict()), axis=1)\n",
    "df_b_sorted = df_b.sort_values(\"similarity\", ascending=False)\n",
    "\n",
    "print(\"Top matches:\\n\", df_b_sorted[[\"id\", \"similarity\"]])\n",
    "best_match = df_b_sorted.iloc[0]\n",
    "print(\"\\n✅ Best match found:\", best_match.to_dict())"
   ],
   "id": "863bbd1acf1a1415",
   "outputs": [
    {
     "ename": "NameError",
     "evalue": "name 'df_a' is not defined",
     "output_type": "error",
     "traceback": [
      "\u001B[1;31m---------------------------------------------------------------------------\u001B[0m",
      "\u001B[1;31mNameError\u001B[0m                                 Traceback (most recent call last)",
      "Cell \u001B[1;32mIn[27], line 1\u001B[0m\n\u001B[1;32m----> 1\u001B[0m selected_a \u001B[38;5;241m=\u001B[39m df_a\u001B[38;5;241m.\u001B[39miloc[\u001B[38;5;241m0\u001B[39m]\u001B[38;5;241m.\u001B[39mto_dict()\n\u001B[0;32m      2\u001B[0m df_b[\u001B[38;5;124m\"\u001B[39m\u001B[38;5;124msimilarity\u001B[39m\u001B[38;5;124m\"\u001B[39m] \u001B[38;5;241m=\u001B[39m df_b\u001B[38;5;241m.\u001B[39mapply(\u001B[38;5;28;01mlambda\u001B[39;00m row: compute_similarity(selected_a, row\u001B[38;5;241m.\u001B[39mto_dict()), axis\u001B[38;5;241m=\u001B[39m\u001B[38;5;241m1\u001B[39m)\n\u001B[0;32m      3\u001B[0m df_b_sorted \u001B[38;5;241m=\u001B[39m df_b\u001B[38;5;241m.\u001B[39msort_values(\u001B[38;5;124m\"\u001B[39m\u001B[38;5;124msimilarity\u001B[39m\u001B[38;5;124m\"\u001B[39m, ascending\u001B[38;5;241m=\u001B[39m\u001B[38;5;28;01mFalse\u001B[39;00m)\n",
      "\u001B[1;31mNameError\u001B[0m: name 'df_a' is not defined"
     ]
    }
   ],
   "execution_count": 27
  }
 ],
 "metadata": {
  "kernelspec": {
   "display_name": "Python 3",
   "language": "python",
   "name": "python3"
  },
  "language_info": {
   "codemirror_mode": {
    "name": "ipython",
    "version": 2
   },
   "file_extension": ".py",
   "mimetype": "text/x-python",
   "name": "python",
   "nbconvert_exporter": "python",
   "pygments_lexer": "ipython2",
   "version": "2.7.6"
  }
 },
 "nbformat": 4,
 "nbformat_minor": 5
}
